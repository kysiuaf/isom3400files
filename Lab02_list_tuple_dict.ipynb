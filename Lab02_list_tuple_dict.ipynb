{
 "cells": [
  {
   "cell_type": "markdown",
   "id": "bdad3d77",
   "metadata": {},
   "source": [
    "# Lab 4: List, Tuple & Dictionary "
   ]
  },
  {
   "cell_type": "markdown",
   "id": "8a693f36",
   "metadata": {},
   "source": [
    "# Task 1"
   ]
  },
  {
   "cell_type": "markdown",
   "id": "54525e7b",
   "metadata": {},
   "source": [
    "Assuming there are 20 classrooms in LSKBB with room numbers  \"G001\" to \"G020\", generate a list named \"room\" that contains all 20 room numbers. \n",
    "\n",
    "room = [\"G001\", \"G002\", ... , \"G020\"]\n",
    "\n",
    "Hint: range(), zfill()\n",
    "\n",
    "Complete the task:\n",
    "\n",
    "(a) with for loop\n",
    "\n",
    "(b) with list comprehension"
   ]
  },
  {
   "cell_type": "code",
   "execution_count": 14,
   "id": "df15778f",
   "metadata": {},
   "outputs": [
    {
     "name": "stdout",
     "output_type": "stream",
     "text": [
      "['G001', 'G002', 'G003', 'G004', 'G005', 'G006', 'G007', 'G008', 'G009', 'G010', 'G011', 'G012', 'G013', 'G014', 'G015', 'G016', 'G017', 'G018', 'G019', 'G020']\n"
     ]
    }
   ],
   "source": [
    "# (a) with for loop\n"
   ]
  },
  {
   "cell_type": "code",
   "execution_count": 13,
   "id": "eb213156",
   "metadata": {},
   "outputs": [
    {
     "name": "stdout",
     "output_type": "stream",
     "text": [
      "['G001', 'G002', 'G003', 'G004', 'G005', 'G006', 'G007', 'G008', 'G009', 'G010', 'G011', 'G012', 'G013', 'G014', 'G015', 'G016', 'G017', 'G018', 'G019', 'G020']\n"
     ]
    }
   ],
   "source": [
    "# (b) with list comprehension\n"
   ]
  },
  {
   "cell_type": "code",
   "execution_count": null,
   "id": "8bd20da4",
   "metadata": {},
   "outputs": [],
   "source": []
  },
  {
   "cell_type": "markdown",
   "id": "2cf034bc",
   "metadata": {},
   "source": [
    "# Task 2"
   ]
  },
  {
   "cell_type": "markdown",
   "id": "4d8366a2",
   "metadata": {},
   "source": [
    "By applying random generator, create a list of 15 randomized course codes, name the list \"course\". The course codes should be created in the range of \"ISOM2000\" to \"ISOM3400\"\n",
    "\n",
    "course=[\"ISOMxxxx\", \"ISOMxxxx\", ... , \"ISOMxxxx\"]"
   ]
  },
  {
   "cell_type": "markdown",
   "id": "5b5e3307",
   "metadata": {},
   "source": [
    "(a) Create the list with comprehension\n",
    "\n",
    "Hint: random.randrange(parameter1, parameter2)\n",
    "\n",
    "(b) Sort the list in ascending order, e.g. [\"ISOM2000\", \"ISOM2010\"...] and ouput the sorted list. \n",
    "\n",
    "Hint: .sort() OR sorted()?? \n"
   ]
  },
  {
   "cell_type": "code",
   "execution_count": 48,
   "id": "4df85585",
   "metadata": {},
   "outputs": [
    {
     "name": "stdout",
     "output_type": "stream",
     "text": [
      "['ISOM2788', 'ISOM2861', 'ISOM2082', 'ISOM2530', 'ISOM3047', 'ISOM2995', 'ISOM2829', 'ISOM2621', 'ISOM2976', 'ISOM2733', 'ISOM3194', 'ISOM2447', 'ISOM3033', 'ISOM2285', 'ISOM2577']\n"
     ]
    }
   ],
   "source": [
    "# (a) with list comprehension\n",
    "import random # for the method random.randrange()\n",
    "random.seed(0)\n"
   ]
  },
  {
   "cell_type": "code",
   "execution_count": 49,
   "id": "1e26b8aa",
   "metadata": {},
   "outputs": [
    {
     "name": "stdout",
     "output_type": "stream",
     "text": [
      "['ISOM2082', 'ISOM2285', 'ISOM2447', 'ISOM2530', 'ISOM2577', 'ISOM2621', 'ISOM2733', 'ISOM2788', 'ISOM2829', 'ISOM2861', 'ISOM2976', 'ISOM2995', 'ISOM3033', 'ISOM3047', 'ISOM3194']\n",
      "\n",
      "\n",
      "['ISOM2788', 'ISOM2861', 'ISOM2082', 'ISOM2530', 'ISOM3047', 'ISOM2995', 'ISOM2829', 'ISOM2621', 'ISOM2976', 'ISOM2733', 'ISOM3194', 'ISOM2447', 'ISOM3033', 'ISOM2285', 'ISOM2577']\n"
     ]
    }
   ],
   "source": [
    "# (b) sorted() OR .sort()\n",
    "\n",
    "# sorted()\n"
   ]
  },
  {
   "cell_type": "code",
   "execution_count": 50,
   "id": "32d61f29",
   "metadata": {},
   "outputs": [
    {
     "name": "stdout",
     "output_type": "stream",
     "text": [
      "['ISOM2082', 'ISOM2285', 'ISOM2447', 'ISOM2530', 'ISOM2577', 'ISOM2621', 'ISOM2733', 'ISOM2788', 'ISOM2829', 'ISOM2861', 'ISOM2976', 'ISOM2995', 'ISOM3033', 'ISOM3047', 'ISOM3194']\n"
     ]
    }
   ],
   "source": [
    "# .sort()\n"
   ]
  },
  {
   "cell_type": "markdown",
   "id": "338e6226",
   "metadata": {},
   "source": [
    "# Task 3"
   ]
  },
  {
   "cell_type": "markdown",
   "id": "34bd2386",
   "metadata": {},
   "source": [
    "Assign classroom for each of the ISOM courses in the list \"course\". There are 15 courses and 20 classrooms. Allocate the first 15 rooms (i.e. \"G001\" - \"G015\") to the 15 courses in ascending order. Print the courses and room numbers in a proper way.\n",
    "\n",
    "(a) Create a list, named \"course_room\", keep each course and its assigned room number in a tuple, keep all the course and room number information in the list.\n",
    "\n",
    "Hint: zip OR list comprehension\n",
    "\n",
    "course_room = [(ISOM3001, G001), (ISOM3002, G002), ... , (ISOM3025, G025)]\n",
    "\n",
    "(b) Ask user to input a course code, print the room number accordingly. "
   ]
  },
  {
   "cell_type": "code",
   "execution_count": 66,
   "id": "33d677f9",
   "metadata": {},
   "outputs": [
    {
     "name": "stdout",
     "output_type": "stream",
     "text": [
      "[('ISOM2082', 'G001'), ('ISOM2285', 'G002'), ('ISOM2447', 'G003'), ('ISOM2530', 'G004'), ('ISOM2577', 'G005'), ('ISOM2621', 'G006'), ('ISOM2733', 'G007'), ('ISOM2788', 'G008'), ('ISOM2829', 'G009'), ('ISOM2861', 'G010'), ('ISOM2976', 'G011'), ('ISOM2995', 'G012'), ('ISOM3033', 'G013'), ('ISOM3047', 'G014'), ('ISOM3194', 'G015')]\n"
     ]
    }
   ],
   "source": [
    "# (a) with zip\n"
   ]
  },
  {
   "cell_type": "code",
   "execution_count": 75,
   "id": "ded34729",
   "metadata": {},
   "outputs": [
    {
     "name": "stdout",
     "output_type": "stream",
     "text": [
      "[('ISOM2082', 'G001'), ('ISOM2285', 'G002'), ('ISOM2447', 'G003'), ('ISOM2530', 'G004'), ('ISOM2577', 'G005'), ('ISOM2621', 'G006'), ('ISOM2733', 'G007'), ('ISOM2788', 'G008'), ('ISOM2829', 'G009'), ('ISOM2861', 'G010'), ('ISOM2976', 'G011'), ('ISOM2995', 'G012'), ('ISOM3033', 'G013'), ('ISOM3047', 'G014'), ('ISOM3194', 'G015')]\n"
     ]
    }
   ],
   "source": [
    "# (a) with list comprehension\n"
   ]
  },
  {
   "cell_type": "code",
   "execution_count": 88,
   "id": "baf9d26b",
   "metadata": {},
   "outputs": [
    {
     "name": "stdout",
     "output_type": "stream",
     "text": [
      "Please input course code: ISOM2829\n",
      "Room number: G009\n"
     ]
    }
   ],
   "source": [
    "# (b)\n"
   ]
  },
  {
   "cell_type": "markdown",
   "id": "1b7e4c83",
   "metadata": {},
   "source": [
    "# Task 4"
   ]
  },
  {
   "cell_type": "markdown",
   "id": "6c8c9f6e",
   "metadata": {},
   "source": [
    "Demontrate the above task in \"dictionary\".\n",
    "\n",
    "(a) convert the data structure of \"course_room\" into dictionary, named \"course_room_dict\"\n",
    "\n",
    "(b) Again, implement Task 3(b) by extracting information from \"course_room_dict\""
   ]
  },
  {
   "cell_type": "code",
   "execution_count": 91,
   "id": "ba5f6507",
   "metadata": {},
   "outputs": [
    {
     "name": "stdout",
     "output_type": "stream",
     "text": [
      "{'ISOM2082': 'G001', 'ISOM2285': 'G002', 'ISOM2447': 'G003', 'ISOM2530': 'G004', 'ISOM2577': 'G005', 'ISOM2621': 'G006', 'ISOM2733': 'G007', 'ISOM2788': 'G008', 'ISOM2829': 'G009', 'ISOM2861': 'G010', 'ISOM2976': 'G011', 'ISOM2995': 'G012', 'ISOM3033': 'G013', 'ISOM3047': 'G014', 'ISOM3194': 'G015'}\n"
     ]
    }
   ],
   "source": [
    "#(a) dict()\n"
   ]
  },
  {
   "cell_type": "code",
   "execution_count": 102,
   "id": "49b8359f",
   "metadata": {},
   "outputs": [],
   "source": [
    "# course_room_dict.items() "
   ]
  },
  {
   "cell_type": "code",
   "execution_count": 103,
   "id": "6838839e",
   "metadata": {},
   "outputs": [],
   "source": [
    "# course_room_dict.keys()"
   ]
  },
  {
   "cell_type": "code",
   "execution_count": 104,
   "id": "6f3e4102",
   "metadata": {},
   "outputs": [],
   "source": [
    "# course_room_dict.values()"
   ]
  },
  {
   "cell_type": "code",
   "execution_count": 101,
   "id": "5a1cc39d",
   "metadata": {},
   "outputs": [
    {
     "name": "stdout",
     "output_type": "stream",
     "text": [
      "Please input course code: ISOM2082\n",
      "Room number: G001\n"
     ]
    }
   ],
   "source": [
    "#(b)\n"
   ]
  },
  {
   "cell_type": "code",
   "execution_count": null,
   "id": "2b6942bb",
   "metadata": {},
   "outputs": [],
   "source": []
  }
 ],
 "metadata": {
  "kernelspec": {
   "display_name": "Python 3",
   "language": "python",
   "name": "python3"
  },
  "language_info": {
   "codemirror_mode": {
    "name": "ipython",
    "version": 3
   },
   "file_extension": ".py",
   "mimetype": "text/x-python",
   "name": "python",
   "nbconvert_exporter": "python",
   "pygments_lexer": "ipython3",
   "version": "3.8.8"
  }
 },
 "nbformat": 4,
 "nbformat_minor": 5
}
